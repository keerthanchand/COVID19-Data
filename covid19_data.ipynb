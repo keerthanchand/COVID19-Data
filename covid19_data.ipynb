{
  "nbformat": 4,
  "nbformat_minor": 0,
  "metadata": {
    "colab": {
      "name": "covid19_data.ipynb",
      "provenance": []
    },
    "kernelspec": {
      "name": "python3",
      "display_name": "Python 3"
    }
  },
  "cells": [
    {
      "cell_type": "code",
      "metadata": {
        "id": "aMG-h3yazbZk",
        "colab_type": "code",
        "colab": {}
      },
      "source": [
        "#!pip install COVID19Py"
      ],
      "execution_count": 0,
      "outputs": []
    },
    {
      "cell_type": "code",
      "metadata": {
        "id": "x-OFtmdt0TdF",
        "colab_type": "code",
        "colab": {}
      },
      "source": [
        "import COVID19Py\n",
        "import matplotlib.pyplot as plt\n",
        "from matplotlib.pyplot import style\n",
        "covid19 = COVID19Py.COVID19()"
      ],
      "execution_count": 0,
      "outputs": []
    },
    {
      "cell_type": "code",
      "metadata": {
        "id": "mJNz6t7GetTJ",
        "colab_type": "code",
        "colab": {
          "base_uri": "https://localhost:8080/",
          "height": 1000
        },
        "outputId": "83e6d321-ea29-4288-a551-40dc23495008"
      },
      "source": [
        "#Run this cell for printing country name and country codes\n",
        "\n",
        "locations = covid19.getLocations()\n",
        "print(\"country : country code \")\n",
        "for i in range((len(locations))):\n",
        "  print(locations[i]['country'] + \" : \"  + locations[i]['country_code'] )\n"
      ],
      "execution_count": 152,
      "outputs": [
        {
          "output_type": "stream",
          "text": [
            "country : country code \n",
            "Thailand : TH\n",
            "Japan : JP\n",
            "Singapore : SG\n",
            "Nepal : NP\n",
            "Malaysia : MY\n",
            "Canada : CA\n",
            "Australia : AU\n",
            "Australia : AU\n",
            "Australia : AU\n",
            "Cambodia : KH\n",
            "Sri Lanka : LK\n",
            "Germany : DE\n",
            "Finland : FI\n",
            "United Arab Emirates : AE\n",
            "Philippines : PH\n",
            "India : IN\n",
            "Italy : IT\n",
            "Sweden : SE\n",
            "Spain : ES\n",
            "Australia : AU\n",
            "Belgium : BE\n",
            "Egypt : EG\n",
            "Australia : AU\n",
            "Lebanon : LB\n",
            "Iraq : IQ\n",
            "Oman : OM\n",
            "Afghanistan : AF\n",
            "Bahrain : BH\n",
            "Kuwait : KW\n",
            "Algeria : DZ\n",
            "Croatia : HR\n",
            "Switzerland : CH\n",
            "Austria : AT\n",
            "Israel : IL\n",
            "Pakistan : PK\n",
            "Brazil : BR\n",
            "Georgia : GE\n",
            "Greece : GR\n",
            "North Macedonia : MK\n",
            "Norway : NO\n",
            "Romania : RO\n",
            "Estonia : EE\n",
            "San Marino : SM\n",
            "Belarus : BY\n",
            "Iceland : IS\n",
            "Lithuania : LT\n",
            "Mexico : MX\n",
            "New Zealand : NZ\n",
            "Nigeria : NG\n",
            "Australia : AU\n",
            "Ireland : IE\n",
            "Luxembourg : LU\n",
            "Monaco : MC\n",
            "Qatar : QA\n",
            "Ecuador : EC\n",
            "Azerbaijan : AZ\n",
            "Armenia : AM\n",
            "Dominican Republic : DO\n",
            "Indonesia : ID\n",
            "Portugal : PT\n",
            "Andorra : AD\n",
            "Australia : AU\n",
            "Latvia : LV\n",
            "Morocco : MA\n",
            "Saudi Arabia : SA\n",
            "Senegal : SN\n",
            "Argentina : AR\n",
            "Chile : CL\n",
            "Jordan : JO\n",
            "Ukraine : UA\n",
            "Hungary : HU\n",
            "Australia : AU\n",
            "Liechtenstein : LI\n",
            "Poland : PL\n",
            "Tunisia : TN\n",
            "Bosnia and Herzegovina : BA\n",
            "Slovenia : SI\n",
            "South Africa : ZA\n",
            "Bhutan : BT\n",
            "Cameroon : CM\n",
            "Colombia : CO\n",
            "Costa Rica : CR\n",
            "Peru : PE\n",
            "Serbia : RS\n",
            "Slovakia : SK\n",
            "Togo : TG\n",
            "Malta : MT\n",
            "Martinique : MQ\n",
            "Bulgaria : BG\n",
            "Maldives : MV\n",
            "Bangladesh : BD\n",
            "Paraguay : PY\n",
            "Canada : CA\n",
            "Canada : CA\n",
            "Canada : CA\n",
            "Albania : AL\n",
            "Cyprus : CY\n",
            "Brunei : BN\n",
            "US : US\n",
            "US : US\n",
            "US : US\n",
            "US : US\n",
            "US : US\n",
            "US : US\n",
            "US : US\n",
            "US : US\n",
            "US : US\n",
            "US : US\n",
            "US : US\n",
            "US : US\n",
            "US : US\n",
            "US : US\n",
            "US : US\n",
            "US : US\n",
            "US : US\n",
            "US : US\n",
            "US : US\n",
            "US : US\n",
            "US : US\n",
            "US : US\n",
            "US : US\n",
            "US : US\n",
            "US : US\n",
            "US : US\n",
            "US : US\n",
            "US : US\n",
            "US : US\n",
            "US : US\n",
            "US : US\n",
            "US : US\n",
            "US : US\n",
            "US : US\n",
            "US : US\n",
            "Burkina Faso : BF\n",
            "Holy See : VA\n",
            "Mongolia : MN\n",
            "Panama : PA\n",
            "US : US\n",
            "US : US\n",
            "US : US\n",
            "US : US\n",
            "US : US\n",
            "US : US\n",
            "US : US\n",
            "US : US\n",
            "US : US\n",
            "US : US\n",
            "US : US\n",
            "US : US\n",
            "US : US\n",
            "US : US\n",
            "US : US\n",
            "US : US\n",
            "US : US\n",
            "China : CN\n",
            "Iran : IR\n",
            "Korea, South : KR\n",
            "France : FR\n",
            "China : CN\n",
            "China : CN\n",
            "China : CN\n",
            "China : CN\n",
            "China : CN\n",
            "China : CN\n",
            "China : CN\n",
            "Cruise Ship : XX\n",
            "China : CN\n",
            "China : CN\n",
            "China : CN\n",
            "China : CN\n",
            "Denmark : DK\n",
            "China : CN\n",
            "China : CN\n",
            "China : CN\n",
            "China : CN\n",
            "China : CN\n",
            "China : CN\n",
            "China : CN\n",
            "China : CN\n",
            "China : CN\n",
            "China : CN\n",
            "China : CN\n",
            "China : CN\n",
            "China : CN\n",
            "China : CN\n",
            "China : CN\n",
            "Czechia : CZ\n",
            "China : CN\n",
            "China : CN\n",
            "China : CN\n",
            "Taiwan* : TW\n",
            "Vietnam : VN\n",
            "Russia : RU\n",
            "China : CN\n",
            "China : CN\n",
            "Moldova : MD\n",
            "Bolivia : BO\n",
            "Denmark : DK\n",
            "France : FR\n",
            "Honduras : HN\n",
            "United Kingdom : GB\n",
            "Canada : CA\n",
            "China : CN\n",
            "Congo (Kinshasa) : CD\n",
            "Cote d'Ivoire : CI\n",
            "France : FR\n",
            "Jamaica : JM\n",
            "Turkey : TR\n",
            "United Kingdom : GB\n",
            "US : US\n",
            "US : US\n",
            "US : US\n",
            "US : US\n",
            "US : US\n",
            "US : US\n",
            "US : US\n",
            "US : US\n",
            "US : US\n",
            "US : US\n",
            "US : US\n",
            "US : US\n",
            "US : US\n",
            "US : US\n",
            "US : US\n",
            "US : US\n",
            "US : US\n",
            "US : US\n",
            "US : US\n",
            "US : US\n",
            "US : US\n",
            "US : US\n",
            "US : US\n",
            "US : US\n",
            "US : US\n",
            "US : US\n",
            "US : US\n",
            "US : US\n",
            "US : US\n",
            "US : US\n",
            "US : US\n",
            "US : US\n",
            "US : US\n",
            "US : US\n",
            "US : US\n",
            "US : US\n",
            "US : US\n",
            "US : US\n",
            "US : US\n",
            "US : US\n",
            "US : US\n",
            "US : US\n",
            "US : US\n",
            "US : US\n",
            "US : US\n",
            "US : US\n",
            "US : US\n",
            "US : US\n",
            "US : US\n",
            "US : US\n",
            "US : US\n",
            "US : US\n",
            "US : US\n",
            "US : US\n",
            "US : US\n",
            "US : US\n",
            "US : US\n",
            "US : US\n",
            "US : US\n",
            "US : US\n",
            "US : US\n",
            "US : US\n",
            "US : US\n",
            "US : US\n",
            "US : US\n",
            "US : US\n",
            "US : US\n",
            "US : US\n",
            "US : US\n",
            "US : US\n",
            "US : US\n",
            "US : US\n",
            "US : US\n",
            "US : US\n",
            "US : US\n",
            "US : US\n",
            "US : US\n",
            "US : US\n",
            "US : US\n",
            "US : US\n",
            "US : US\n",
            "US : US\n",
            "US : US\n",
            "US : US\n",
            "US : US\n",
            "US : US\n",
            "US : US\n",
            "US : US\n",
            "US : US\n",
            "US : US\n",
            "US : US\n",
            "US : US\n",
            "US : US\n",
            "US : US\n",
            "US : US\n",
            "US : US\n",
            "US : US\n",
            "US : US\n",
            "US : US\n",
            "US : US\n",
            "US : US\n",
            "US : US\n",
            "US : US\n",
            "US : US\n",
            "US : US\n",
            "US : US\n",
            "US : US\n",
            "US : US\n",
            "US : US\n",
            "US : US\n",
            "US : US\n",
            "US : US\n",
            "US : US\n",
            "US : US\n",
            "US : US\n",
            "US : US\n",
            "US : US\n",
            "US : US\n",
            "US : US\n",
            "US : US\n",
            "US : US\n",
            "US : US\n",
            "US : US\n",
            "US : US\n",
            "US : US\n",
            "US : US\n",
            "US : US\n",
            "US : US\n",
            "US : US\n",
            "US : US\n",
            "US : US\n",
            "US : US\n",
            "US : US\n",
            "US : US\n",
            "US : US\n",
            "US : US\n",
            "US : US\n",
            "US : US\n",
            "US : US\n",
            "US : US\n",
            "US : US\n",
            "US : US\n",
            "US : US\n",
            "US : US\n",
            "US : US\n",
            "US : US\n",
            "US : US\n",
            "US : US\n",
            "US : US\n",
            "US : US\n",
            "US : US\n",
            "US : US\n",
            "US : US\n",
            "US : US\n",
            "US : US\n",
            "US : US\n",
            "US : US\n",
            "US : US\n",
            "US : US\n",
            "US : US\n",
            "US : US\n",
            "US : US\n",
            "US : US\n",
            "US : US\n",
            "US : US\n",
            "US : US\n",
            "US : US\n",
            "US : US\n",
            "US : US\n",
            "US : US\n",
            "US : US\n",
            "US : US\n",
            "US : US\n",
            "US : US\n",
            "US : US\n",
            "US : US\n",
            "US : US\n",
            "US : US\n",
            "US : US\n",
            "US : US\n",
            "US : US\n",
            "US : US\n",
            "US : US\n",
            "US : US\n",
            "US : US\n",
            "US : US\n",
            "US : US\n",
            "US : US\n",
            "US : US\n",
            "US : US\n",
            "US : US\n",
            "Cuba : CU\n",
            "Guyana : GY\n",
            "Australia : AU\n",
            "United Kingdom : GB\n",
            "Kazakhstan : KZ\n",
            "France : FR\n",
            "Canada : CA\n",
            "Canada : CA\n",
            "Ethiopia : ET\n",
            "Sudan : SD\n",
            "Guinea : GN\n",
            "Canada : CA\n",
            "Kenya : KE\n",
            "Antigua and Barbuda : AG\n",
            "US : US\n",
            "Uruguay : UY\n",
            "Ghana : GH\n",
            "US : US\n",
            "Namibia : NA\n",
            "Seychelles : SC\n",
            "Trinidad and Tobago : TT\n",
            "Venezuela : VE\n",
            "Eswatini : SZ\n",
            "Gabon : GA\n",
            "Guatemala : GT\n",
            "Mauritania : MR\n",
            "Rwanda : RW\n",
            "Saint Lucia : LC\n",
            "Saint Vincent and the Grenadines : VC\n",
            "Suriname : SR\n",
            "France : FR\n",
            "US : US\n",
            "Kosovo : XK\n",
            "Canada : CA\n",
            "Canada : CA\n",
            "Central African Republic : CF\n",
            "Congo (Brazzaville) : CG\n",
            "Equatorial Guinea : GQ\n",
            "France : FR\n",
            "Uzbekistan : UZ\n",
            "Netherlands : NL\n",
            "Canada : CA\n",
            "France : FR\n",
            "Benin : BJ\n",
            "Liberia : LR\n",
            "Netherlands : NL\n",
            "Somalia : SO\n",
            "Tanzania : TZ\n",
            "US : US\n",
            "United Kingdom : GB\n",
            "France : FR\n",
            "Barbados : BB\n",
            "Montenegro : ME\n",
            "Kyrgyzstan : KG\n",
            "Mauritius : MU\n",
            "Netherlands : NL\n",
            "Zambia : ZM\n",
            "Djibouti : DJ\n",
            "Gambia, The : GM\n",
            "United Kingdom : GB\n",
            "Bahamas, The : BS\n",
            "Denmark : DK\n",
            "France : FR\n",
            "United Kingdom : GB\n",
            "Chad : TD\n",
            "El Salvador : SV\n",
            "Fiji : FJ\n",
            "Nicaragua : NI\n",
            "Madagascar : MG\n",
            "Haiti : HT\n",
            "Angola : AO\n",
            "Cabo Verde : CV\n",
            "Netherlands : NL\n",
            "Niger : NE\n",
            "Papua New Guinea : PG\n",
            "United Kingdom : GB\n",
            "Zimbabwe : ZW\n",
            "Canada : CA\n",
            "Cape Verde : CV\n",
            "East Timor : TL\n",
            "Eritrea : ER\n",
            "Uganda : UG\n",
            "Dominica : DM\n",
            "Grenada : GD\n",
            "Mozambique : MZ\n",
            "Syria : SY\n",
            "Timor-Leste : TL\n"
          ],
          "name": "stdout"
        }
      ]
    },
    {
      "cell_type": "code",
      "metadata": {
        "id": "WyAj5rx0ktml",
        "colab_type": "code",
        "colab": {
          "base_uri": "https://localhost:8080/",
          "height": 34
        },
        "outputId": "2390e5ef-e5d8-433b-9946-e99be14efe52"
      },
      "source": [
        "enter  = input(\"Enter Country Code : \")"
      ],
      "execution_count": 153,
      "outputs": [
        {
          "output_type": "stream",
          "text": [
            "Enter Country Code : CA\n"
          ],
          "name": "stdout"
        }
      ]
    },
    {
      "cell_type": "code",
      "metadata": {
        "id": "HE9g2gyr0e5U",
        "colab_type": "code",
        "colab": {
          "base_uri": "https://localhost:8080/",
          "height": 68
        },
        "outputId": "025c717e-5ae7-4988-ead3-03b307be2adf"
      },
      "source": [
        "#Run this cell for Global Corona Virus data\n",
        "\n",
        "latest = covid19.getLatest()\n",
        "total_confirmed = latest[\"confirmed\"]\n",
        "total_recovered = latest[\"recovered\"]\n",
        "total_deaths = latest[\"deaths\"]\n",
        "#print(latest)\n",
        "print(\"Total Confirmed :\", total_confirmed)\n",
        "print(\"Total Deaths    :\", total_deaths)\n",
        "print(\"Total Recovered :\", total_recovered)\n"
      ],
      "execution_count": 154,
      "outputs": [
        {
          "output_type": "stream",
          "text": [
            "Total Confirmed : 335955\n",
            "Total Deaths    : 14632\n",
            "Total Recovered : 97704\n"
          ],
          "name": "stdout"
        }
      ]
    },
    {
      "cell_type": "code",
      "metadata": {
        "id": "6icBvnml2BJd",
        "colab_type": "code",
        "colab": {
          "base_uri": "https://localhost:8080/",
          "height": 102
        },
        "outputId": "79ea5788-5bf7-403c-c1e0-d65f0e31922c"
      },
      "source": [
        "location = covid19.getLocationByCountryCode(enter, timelines=True)\n",
        "#print(location)\n",
        "country_name = location[0][\"country\"]\n",
        "last_update = location[0][\"last_updated\"]\n",
        "country_latest = location[0][\"latest\"] \n",
        "confirmed = country_latest[\"confirmed\"]\n",
        "deaths = country_latest[\"deaths\"]\n",
        "recovered = country_latest[\"recovered\"]\n",
        "y = last_update.split(\"T\")\n",
        "x = y[1].split(\".\")\n",
        "last_update = y[0] + \" / \"+ x[0]\n",
        "confirmed_time_line = location[0][\"timelines\"]['confirmed']['timeline']\n",
        "deaths_time_line = location[0][\"timelines\"]['deaths']['timeline']\n",
        "recovered_time_line = location[0][\"timelines\"]['recovered']['timeline']\n",
        "\n",
        "#print(confirmed_time_line)\n",
        "#print(deaths_time_line)\n",
        "#print(recovered_time_line)\n",
        "#print(len(confirmed_time_line))\n",
        "\n",
        "\n",
        "print(\"Country Name :\", country_name)\n",
        "print(\"Last Update  :\",last_update )\n",
        "print(\"Confirmed    :\", confirmed)\n",
        "print(\"Deaths       :\", deaths)\n",
        "print(\"Recovered    :\", recovered)"
      ],
      "execution_count": 155,
      "outputs": [
        {
          "output_type": "stream",
          "text": [
            "Country Name : Canada\n",
            "Last Update  : 2020-03-23 / 13:32:23\n",
            "Confirmed    : 424\n",
            "Deaths       : 10\n",
            "Recovered    : 4\n"
          ],
          "name": "stdout"
        }
      ]
    },
    {
      "cell_type": "code",
      "metadata": {
        "id": "rlVa6FELG_q6",
        "colab_type": "code",
        "colab": {
          "base_uri": "https://localhost:8080/",
          "height": 316
        },
        "outputId": "f567c8bd-5b1d-44b5-f84c-cecd4dbb8f33"
      },
      "source": [
        "plt.plot(list(confirmed_time_line.values()))\n",
        "plt.xlabel('Days since 22nd jan 2020');\n",
        "plt.ylabel('Confirmed cases');\n",
        "title = \"Confirmed cases in \" + country_name\n",
        "plt.title(title);\n",
        "plt.show\n",
        "\n"
      ],
      "execution_count": 156,
      "outputs": [
        {
          "output_type": "execute_result",
          "data": {
            "text/plain": [
              "<function matplotlib.pyplot.show>"
            ]
          },
          "metadata": {
            "tags": []
          },
          "execution_count": 156
        },
        {
          "output_type": "display_data",
          "data": {
            "image/png": "[encoded data removed]",
            "text/plain": [
              "<Figure size 432x288 with 1 Axes>"
            ]
          },
          "metadata": {
            "tags": []
          }
        }
      ]
    },
    {
      "cell_type": "code",
      "metadata": {
        "id": "HNU6DlsRRZ_x",
        "colab_type": "code",
        "colab": {
          "base_uri": "https://localhost:8080/",
          "height": 316
        },
        "outputId": "35271b2e-6d78-43c2-d0bb-605d29634705"
      },
      "source": [
        "plt.plot(list(deaths_time_line.values()))\n",
        "plt.xlabel('Days since 22nd jan 2020');\n",
        "plt.ylabel('Deaths');\n",
        "title = \"Deaths in \" + country_name\n",
        "plt.title(title);\n",
        "plt.show"
      ],
      "execution_count": 157,
      "outputs": [
        {
          "output_type": "execute_result",
          "data": {
            "text/plain": [
              "<function matplotlib.pyplot.show>"
            ]
          },
          "metadata": {
            "tags": []
          },
          "execution_count": 157
        },
        {
          "output_type": "display_data",
          "data": {
            "image/png": "[encoded data removed]",
            "text/plain": [
              "<Figure size 432x288 with 1 Axes>"
            ]
          },
          "metadata": {
            "tags": []
          }
        }
      ]
    },
    {
      "cell_type": "code",
      "metadata": {
        "id": "scQOD9s8Xb9i",
        "colab_type": "code",
        "colab": {
          "base_uri": "https://localhost:8080/",
          "height": 316
        },
        "outputId": "eeb7c658-7c6c-4a2f-ba93-7a83cd5ebe75"
      },
      "source": [
        "plt.plot(list(recovered_time_line.values()))\n",
        "plt.xlabel('Days since 22nd jan 2020');\n",
        "plt.ylabel('Recoverd Cases');\n",
        "title = \"Recovered in \" + country_name\n",
        "plt.title(title);\n",
        "plt.show"
      ],
      "execution_count": 158,
      "outputs": [
        {
          "output_type": "execute_result",
          "data": {
            "text/plain": [
              "<function matplotlib.pyplot.show>"
            ]
          },
          "metadata": {
            "tags": []
          },
          "execution_count": 158
        },
        {
          "output_type": "display_data",
          "data": {
            "image/png": "[encoded data removed]",
            "text/plain": [
              "<Figure size 432x288 with 1 Axes>"
            ]
          },
          "metadata": {
            "tags": []
          }
        }
      ]
    },
    {
      "cell_type": "code",
      "metadata": {
        "id": "Ez-iKIG4X_Va",
        "colab_type": "code",
        "colab": {
          "base_uri": "https://localhost:8080/",
          "height": 299
        },
        "outputId": "ef25b911-571c-4301-fd6f-7002fba3c62c"
      },
      "source": [
        "l1, = plt.plot(list(confirmed_time_line.values()), 'b')\n",
        "l2, = plt.plot(list(deaths_time_line.values()), 'r')\n",
        "l3, = plt.plot(list(recovered_time_line.values()), 'g')\n",
        "plt.legend(['Confirmed', 'Deaths', 'Recovered'], loc='upper left')\n",
        "plt.xlabel('Days since 22nd Jan 2020');\n",
        "plt.title('COVID-19');\n",
        "plt.show()"
      ],
      "execution_count": 159,
      "outputs": [
        {
          "output_type": "display_data",
          "data": {
            "image/png": "[encoded data removed]",
            "text/plain": [
              "<Figure size 432x288 with 1 Axes>"
            ]
          },
          "metadata": {
            "tags": []
          }
        }
      ]
    },
    {
      "cell_type": "code",
      "metadata": {
        "id": "IfqMIbNzeBHu",
        "colab_type": "code",
        "colab": {}
      },
      "source": [
        ""
      ],
      "execution_count": 0,
      "outputs": []
    }
  ]
}