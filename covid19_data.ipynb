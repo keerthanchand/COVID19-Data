{
  "nbformat": 4,
  "nbformat_minor": 0,
  "metadata": {
    "colab": {
      "name": "covid19_data.ipynb",
      "provenance": [],
      "authorship_tag": "ABX9TyNOU4ezAe+UEE9tPWnbXLDR",
      "include_colab_link": true
    },
    "kernelspec": {
      "name": "python3",
      "display_name": "Python 3"
    }
  },
  "cells": [
    {
      "cell_type": "markdown",
      "metadata": {
        "id": "view-in-github",
        "colab_type": "text"
      },
      "source": [
        "<a href=\"https://colab.research.google.com/github/keerthanchand/COVID19-Data/blob/master/covid19_data.ipynb\" target=\"_parent\"><img src=\"https://colab.research.google.com/assets/colab-badge.svg\" alt=\"Open In Colab\"/></a>"
      ]
    },
    {
      "cell_type": "code",
      "metadata": {
        "id": "aMG-h3yazbZk",
        "colab_type": "code",
        "colab": {}
      },
      "source": [
        "#!pip install COVID19Py"
      ],
      "execution_count": 0,
      "outputs": []
    },
    {
      "cell_type": "code",
      "metadata": {
        "id": "x-OFtmdt0TdF",
        "colab_type": "code",
        "colab": {}
      },
      "source": [
        "import COVID19Py\n",
        "import matplotlib.pyplot as plt\n",
        "from matplotlib.pyplot import style\n",
        "covid19 = COVID19Py.COVID19()"
      ],
      "execution_count": 0,
      "outputs": []
    },
    {
      "cell_type": "code",
      "metadata": {
        "id": "mJNz6t7GetTJ",
        "colab_type": "code",
        "colab": {}
      },
      "source": [
        "#Run this cell for printing country name and country codes\n",
        "\n",
        "locations = covid19.getLocations()\n",
        "print(\"country : country code \")\n",
        "for i in range((len(locations))):\n",
        "  print(locations[i]['country'] + \" : \"  + locations[i]['country_code'] )\n"
      ],
      "execution_count": 0,
      "outputs": []
    },
    {
      "cell_type": "code",
      "metadata": {
        "id": "WyAj5rx0ktml",
        "colab_type": "code",
        "colab": {}
      },
      "source": [
        "enter  = input(\"Enter Country Code : \")"
      ],
      "execution_count": 0,
      "outputs": []
    },
    {
      "cell_type": "code",
      "metadata": {
        "id": "HE9g2gyr0e5U",
        "colab_type": "code",
        "colab": {}
      },
      "source": [
        "#Run this cell for Global Corona Virus data\n",
        "\n",
        "latest = covid19.getLatest()\n",
        "total_confirmed = latest[\"confirmed\"]\n",
        "total_recovered = latest[\"recovered\"]\n",
        "total_deaths = latest[\"deaths\"]\n",
        "#print(latest)\n",
        "print(\"Total Confirmed :\", total_confirmed)\n",
        "print(\"Total Deaths    :\", total_deaths)\n",
        "print(\"Total Recovered :\", total_recovered)\n"
      ],
      "execution_count": 0,
      "outputs": []
    },
    {
      "cell_type": "code",
      "metadata": {
        "id": "6icBvnml2BJd",
        "colab_type": "code",
        "colab": {}
      },
      "source": [
        "location = covid19.getLocationByCountryCode(enter, timelines=True)\n",
        "#print(location)\n",
        "country_name = location[0][\"country\"]\n",
        "last_update = location[0][\"last_updated\"]\n",
        "country_latest = location[0][\"latest\"] \n",
        "confirmed = country_latest[\"confirmed\"]\n",
        "deaths = country_latest[\"deaths\"]\n",
        "recovered = country_latest[\"recovered\"]\n",
        "y = last_update.split(\"T\")\n",
        "x = y[1].split(\".\")\n",
        "last_update = y[0] + \" / \"+ x[0]\n",
        "confirmed_time_line = location[0][\"timelines\"]['confirmed']['timeline']\n",
        "deaths_time_line = location[0][\"timelines\"]['deaths']['timeline']\n",
        "recovered_time_line = location[0][\"timelines\"]['recovered']['timeline']\n",
        "\n",
        "#print(confirmed_time_line)\n",
        "#print(deaths_time_line)\n",
        "#print(recovered_time_line)\n",
        "#print(len(confirmed_time_line))\n",
        "\n",
        "\n",
        "print(\"Country Name :\", country_name)\n",
        "print(\"Last Update  :\",last_update )\n",
        "print(\"Confirmed    :\", confirmed)\n",
        "print(\"Deaths       :\", deaths)\n",
        "print(\"Recovered    :\", recovered)"
      ],
      "execution_count": 0,
      "outputs": []
    },
    {
      "cell_type": "code",
      "metadata": {
        "id": "rlVa6FELG_q6",
        "colab_type": "code",
        "colab": {}
      },
      "source": [
        "plt.plot(list(confirmed_time_line.values()))\n",
        "plt.xlabel('Days since 22nd jan 2020');\n",
        "plt.ylabel('Confirmed cases');\n",
        "title = \"Confirmed cases in \" + country_name\n",
        "plt.title(title);\n",
        "plt.show\n",
        "\n"
      ],
      "execution_count": 0,
      "outputs": []
    },
    {
      "cell_type": "code",
      "metadata": {
        "id": "HNU6DlsRRZ_x",
        "colab_type": "code",
        "colab": {}
      },
      "source": [
        "plt.plot(list(deaths_time_line.values()))\n",
        "plt.xlabel('Days since 22nd jan 2020');\n",
        "plt.ylabel('Deaths');\n",
        "title = \"Deaths in \" + country_name\n",
        "plt.title(title);\n",
        "plt.show"
      ],
      "execution_count": 0,
      "outputs": []
    },
    {
      "cell_type": "code",
      "metadata": {
        "id": "scQOD9s8Xb9i",
        "colab_type": "code",
        "colab": {}
      },
      "source": [
        "plt.plot(list(recovered_time_line.values()))\n",
        "plt.xlabel('Days since 22nd jan 2020');\n",
        "plt.ylabel('Recoverd Cases');\n",
        "title = \"Recovered in \" + country_name\n",
        "plt.title(title);\n",
        "plt.show"
      ],
      "execution_count": 0,
      "outputs": []
    },
    {
      "cell_type": "code",
      "metadata": {
        "id": "Ez-iKIG4X_Va",
        "colab_type": "code",
        "colab": {}
      },
      "source": [
        "l1, = plt.plot(list(confirmed_time_line.values()), 'b')\n",
        "l2, = plt.plot(list(deaths_time_line.values()), 'r')\n",
        "l3, = plt.plot(list(recovered_time_line.values()), 'g')\n",
        "plt.legend(['Confirmed', 'Deaths', 'Recovered'], loc='upper left')\n",
        "plt.xlabel('Days since 22nd Jan 2020');\n",
        "plt.title('COVID-19');\n",
        "plt.show()"
      ],
      "execution_count": 0,
      "outputs": []
    },
    {
      "cell_type": "code",
      "metadata": {
        "id": "IfqMIbNzeBHu",
        "colab_type": "code",
        "colab": {}
      },
      "source": [
        ""
      ],
      "execution_count": 0,
      "outputs": []
    }
  ]
}